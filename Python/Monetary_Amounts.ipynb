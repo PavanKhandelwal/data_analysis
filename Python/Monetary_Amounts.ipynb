{
 "cells": [
  {
   "cell_type": "markdown",
   "id": "ad93cfd5-861e-4558-b276-80e3d1faeafd",
   "metadata": {},
   "source": [
    "### Decimal Library"
   ]
  },
  {
   "cell_type": "code",
   "execution_count": 1,
   "id": "d18dbbe3-04cb-41c7-af5c-35781008bc63",
   "metadata": {},
   "outputs": [],
   "source": [
    "from decimal import Decimal"
   ]
  },
  {
   "cell_type": "code",
   "execution_count": 8,
   "id": "f6812857-0c15-4af8-9731-484b9bb9db0b",
   "metadata": {},
   "outputs": [],
   "source": [
    "principal = Decimal('60000.00')"
   ]
  },
  {
   "cell_type": "code",
   "execution_count": 9,
   "id": "07b518a4-bc28-4547-ab8b-816019676630",
   "metadata": {},
   "outputs": [
    {
     "data": {
      "text/plain": [
       "Decimal('60000.00')"
      ]
     },
     "execution_count": 9,
     "metadata": {},
     "output_type": "execute_result"
    }
   ],
   "source": [
    "principal"
   ]
  },
  {
   "cell_type": "code",
   "execution_count": 12,
   "id": "4f330167-db93-482e-b4b6-a26afbbd323a",
   "metadata": {},
   "outputs": [],
   "source": [
    "rate = Decimal('0.071')\n",
    "\n",
    "x =  Decimal('10.5')\n",
    "y = Decimal('2')"
   ]
  },
  {
   "cell_type": "code",
   "execution_count": 13,
   "id": "e0dafff7-4cce-4927-9ffc-53873effb416",
   "metadata": {},
   "outputs": [
    {
     "data": {
      "text/plain": [
       "Decimal('12.5')"
      ]
     },
     "execution_count": 13,
     "metadata": {},
     "output_type": "execute_result"
    }
   ],
   "source": [
    "x + y"
   ]
  },
  {
   "cell_type": "code",
   "execution_count": 14,
   "id": "b7eaa93e-ffa5-4f94-adae-b8224ad85035",
   "metadata": {},
   "outputs": [
    {
     "data": {
      "text/plain": [
       "Decimal('5')"
      ]
     },
     "execution_count": 14,
     "metadata": {},
     "output_type": "execute_result"
    }
   ],
   "source": [
    "x // y"
   ]
  },
  {
   "cell_type": "code",
   "execution_count": 20,
   "id": "94056056-25aa-415b-a08b-27bc0ad5a25b",
   "metadata": {},
   "outputs": [
    {
     "name": "stdout",
     "output_type": "stream",
     "text": [
      " 1  64260.00\n",
      " 2  68822.46\n",
      " 3  73708.85\n",
      " 4  78942.18\n",
      " 5  84547.08\n",
      " 6  90549.92\n",
      " 7  96978.97\n",
      " 8 103864.47\n",
      " 9 111238.85\n",
      "10 119136.81\n",
      "11 127595.52\n",
      "12 136654.80\n",
      "13 146357.29\n",
      "14 156748.66\n",
      "15 167877.82\n"
     ]
    }
   ],
   "source": [
    "for year in range(1,16):\n",
    "    amount  = principal * (1 + rate) ** year\n",
    "    print(f'{year:>2}{amount:>10.2f}')"
   ]
  },
  {
   "cell_type": "markdown",
   "id": "dbe673cb-d6be-4f48-8220-7442d1279fed",
   "metadata": {},
   "source": [
    "### Break & Continue Statement"
   ]
  },
  {
   "cell_type": "code",
   "execution_count": 22,
   "id": "9c636ca2-5cfc-430b-9a6b-c9e7a3a7b579",
   "metadata": {},
   "outputs": [
    {
     "name": "stdout",
     "output_type": "stream",
     "text": [
      "0 1 2 3 4 5 6 7 8 9 "
     ]
    }
   ],
   "source": [
    "for number in range(0,100):\n",
    "    if number ==10:\n",
    "        break\n",
    "    print(number, end=' ')"
   ]
  },
  {
   "cell_type": "code",
   "execution_count": 23,
   "id": "20accfee-f479-40a2-9403-04439ccaa961",
   "metadata": {},
   "outputs": [
    {
     "name": "stdout",
     "output_type": "stream",
     "text": [
      "0 1 2 3 4 5 6 7 8 9 11 12 13 14 15 16 17 18 19 20 21 22 23 24 25 26 27 28 29 30 31 32 33 34 35 36 37 38 39 40 41 42 43 44 45 46 47 48 49 50 51 52 53 54 55 56 57 58 59 60 61 62 63 64 65 66 67 68 69 70 71 72 73 74 75 76 77 78 79 80 81 82 83 84 85 86 87 88 89 90 91 92 93 94 95 96 97 98 99 "
     ]
    }
   ],
   "source": [
    "for number in range(0,100):\n",
    "    if number ==10:\n",
    "        continue\n",
    "    print(number, end=' ')"
   ]
  },
  {
   "cell_type": "markdown",
   "id": "640c4108-ce70-4b14-8cc0-70730d94431e",
   "metadata": {},
   "source": [
    "### Boolean Operators"
   ]
  },
  {
   "cell_type": "code",
   "execution_count": 25,
   "id": "d3c6f6e1-541f-431f-9d1c-e38ed4aeece9",
   "metadata": {},
   "outputs": [],
   "source": [
    "gender = 'Female'"
   ]
  },
  {
   "cell_type": "code",
   "execution_count": 26,
   "id": "75403983-535b-405e-8003-7a81eaa346be",
   "metadata": {},
   "outputs": [],
   "source": [
    "age = 70"
   ]
  },
  {
   "cell_type": "code",
   "execution_count": 27,
   "id": "27e097ea-8083-4a4e-af6e-a0ea0e9cb041",
   "metadata": {},
   "outputs": [
    {
     "name": "stdout",
     "output_type": "stream",
     "text": [
      "senior female citizen\n"
     ]
    }
   ],
   "source": [
    "if gender == 'Female' and age>=65:\n",
    "    print('senior female citizen')"
   ]
  },
  {
   "cell_type": "code",
   "execution_count": 1,
   "id": "e57ebe27-d2bb-4e63-8f1f-da44c19ac4f6",
   "metadata": {},
   "outputs": [],
   "source": [
    "semester_avg = 94"
   ]
  },
  {
   "cell_type": "code",
   "execution_count": 2,
   "id": "52aa4806-61c9-4798-a3d1-c307b5cd885a",
   "metadata": {},
   "outputs": [],
   "source": [
    "final_exam = 75"
   ]
  },
  {
   "cell_type": "code",
   "execution_count": 3,
   "id": "6908cf3a-7cdb-4d95-a29a-d7bf4ab91238",
   "metadata": {},
   "outputs": [
    {
     "name": "stdout",
     "output_type": "stream",
     "text": [
      "student gets an A\n"
     ]
    }
   ],
   "source": [
    "if semester_avg >=90 or final_exam >=90:\n",
    "    print('student gets an A')"
   ]
  },
  {
   "cell_type": "markdown",
   "id": "729c1e7d-f538-4082-92c0-eae587346050",
   "metadata": {},
   "source": [
    "### Central Tendency Mean, Median and Mode"
   ]
  },
  {
   "cell_type": "code",
   "execution_count": 1,
   "id": "24a1afc2-3b73-4580-9810-fa5dd30137ef",
   "metadata": {},
   "outputs": [],
   "source": [
    "grades = [85,93,45,67,89]"
   ]
  },
  {
   "cell_type": "code",
   "execution_count": 3,
   "id": "3aaefc37-5807-4a89-9028-4db857d9935c",
   "metadata": {},
   "outputs": [
    {
     "data": {
      "text/plain": [
       "75.8"
      ]
     },
     "execution_count": 3,
     "metadata": {},
     "output_type": "execute_result"
    }
   ],
   "source": [
    "sum(grades) / len(grades)"
   ]
  },
  {
   "cell_type": "code",
   "execution_count": 4,
   "id": "887fd867-5bb1-42a0-9619-4709735771c3",
   "metadata": {},
   "outputs": [
    {
     "data": {
      "text/plain": [
       "5"
      ]
     },
     "execution_count": 4,
     "metadata": {},
     "output_type": "execute_result"
    }
   ],
   "source": [
    "len(grades)"
   ]
  },
  {
   "cell_type": "code",
   "execution_count": 5,
   "id": "d33f50cd-844b-4af5-9417-7558878b195f",
   "metadata": {},
   "outputs": [],
   "source": [
    "import statistics"
   ]
  },
  {
   "cell_type": "code",
   "execution_count": 6,
   "id": "259d9218-1f81-460f-8a84-932539538393",
   "metadata": {},
   "outputs": [
    {
     "data": {
      "text/plain": [
       "75.8"
      ]
     },
     "execution_count": 6,
     "metadata": {},
     "output_type": "execute_result"
    }
   ],
   "source": [
    "statistics.mean(grades)"
   ]
  },
  {
   "cell_type": "code",
   "execution_count": 7,
   "id": "f003f46f-bc93-403e-95d0-232800bb5ae2",
   "metadata": {},
   "outputs": [
    {
     "data": {
      "text/plain": [
       "85"
      ]
     },
     "execution_count": 7,
     "metadata": {},
     "output_type": "execute_result"
    }
   ],
   "source": [
    "statistics.mode(grades)"
   ]
  },
  {
   "cell_type": "code",
   "execution_count": 8,
   "id": "27c4e7b6-d9c6-47db-ae3e-ec678cc0ca70",
   "metadata": {},
   "outputs": [
    {
     "data": {
      "text/plain": [
       "85"
      ]
     },
     "execution_count": 8,
     "metadata": {},
     "output_type": "execute_result"
    }
   ],
   "source": [
    "statistics.median(grades)"
   ]
  },
  {
   "cell_type": "code",
   "execution_count": 9,
   "id": "9ec27fc8-aeb9-478d-95d6-ebc3c8ae6ea3",
   "metadata": {},
   "outputs": [
    {
     "data": {
      "text/plain": [
       "[45, 67, 85, 89, 93]"
      ]
     },
     "execution_count": 9,
     "metadata": {},
     "output_type": "execute_result"
    }
   ],
   "source": [
    "sorted(grades)"
   ]
  },
  {
   "cell_type": "markdown",
   "id": "0580a37f-6e61-440a-9ec7-a283e2448d9d",
   "metadata": {},
   "source": [
    "### Functions"
   ]
  },
  {
   "cell_type": "code",
   "execution_count": 15,
   "id": "ce6130fc-978a-4df9-8865-68af022d35db",
   "metadata": {},
   "outputs": [],
   "source": [
    "def square(number):\n",
    "    \"\"\"calculate the square number\"\"\"\n",
    "    return number ** 2"
   ]
  },
  {
   "cell_type": "code",
   "execution_count": 17,
   "id": "c46ebfbe-82e3-46b6-a877-02bce852e685",
   "metadata": {},
   "outputs": [
    {
     "data": {
      "text/plain": [
       "81"
      ]
     },
     "execution_count": 17,
     "metadata": {},
     "output_type": "execute_result"
    }
   ],
   "source": [
    "square(9)"
   ]
  },
  {
   "cell_type": "code",
   "execution_count": 18,
   "id": "3f797111-769a-44e7-b26d-cc72b3d66230",
   "metadata": {},
   "outputs": [
    {
     "data": {
      "text/plain": [
       "9"
      ]
     },
     "execution_count": 18,
     "metadata": {},
     "output_type": "execute_result"
    }
   ],
   "source": [
    "square(3)"
   ]
  },
  {
   "cell_type": "code",
   "execution_count": null,
   "id": "d6bdb2a5-007d-4ca3-95d1-a4761885f5e4",
   "metadata": {},
   "outputs": [],
   "source": []
  }
 ],
 "metadata": {
  "kernelspec": {
   "display_name": "Python 3 (ipykernel)",
   "language": "python",
   "name": "python3"
  },
  "language_info": {
   "codemirror_mode": {
    "name": "ipython",
    "version": 3
   },
   "file_extension": ".py",
   "mimetype": "text/x-python",
   "name": "python",
   "nbconvert_exporter": "python",
   "pygments_lexer": "ipython3",
   "version": "3.13.5"
  }
 },
 "nbformat": 4,
 "nbformat_minor": 5
}
