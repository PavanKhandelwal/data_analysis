{
 "cells": [
  {
   "cell_type": "markdown",
   "id": "de90793e-9586-4606-acd6-51abf49534aa",
   "metadata": {},
   "source": [
    "### IF Statement"
   ]
  },
  {
   "cell_type": "code",
   "execution_count": 4,
   "id": "f17d2b9a-b53c-45e1-b8c0-6597a42ea83d",
   "metadata": {},
   "outputs": [
    {
     "name": "stdin",
     "output_type": "stream",
     "text": [
      "enter a number 87\n"
     ]
    },
    {
     "name": "stdout",
     "output_type": "stream",
     "text": [
      "1st grade\n",
      "2nd grade\n"
     ]
    }
   ],
   "source": [
    "#if statement\n",
    "\n",
    "enter_number = int(input('enter a number'))\n",
    "\n",
    "a = enter_number\n",
    "\n",
    "if a >=60:\n",
    "    print('1st grade')\n",
    "if a>45 & a<60 :\n",
    "    print('2nd grade')\n",
    "if a<45:\n",
    "    print('fail')"
   ]
  },
  {
   "cell_type": "markdown",
   "id": "5a6a9d1a-4913-4fba-8da0-2fe973846c95",
   "metadata": {},
   "source": [
    "### Else IF Statement"
   ]
  },
  {
   "cell_type": "code",
   "execution_count": 5,
   "id": "f595fd30-70d1-4cc8-ae8e-7c7470abe985",
   "metadata": {},
   "outputs": [
    {
     "name": "stdout",
     "output_type": "stream",
     "text": [
      "fail\n"
     ]
    }
   ],
   "source": [
    "if grade >= 60:\n",
    "    print('1st grade')\n",
    "if grade < 60:\n",
    "    print('fail')"
   ]
  },
  {
   "cell_type": "code",
   "execution_count": 4,
   "id": "1a94c8dc-b46a-479d-9b2e-297c3d5044d2",
   "metadata": {},
   "outputs": [
    {
     "name": "stdin",
     "output_type": "stream",
     "text": [
      "enter a number 63\n"
     ]
    },
    {
     "data": {
      "text/plain": [
       "'passed'"
      ]
     },
     "execution_count": 4,
     "metadata": {},
     "output_type": "execute_result"
    }
   ],
   "source": [
    "grade = int(input('enter a number'))\n",
    "result = ('passed' if grade >= 60 else 'failed')\n",
    "result"
   ]
  },
  {
   "cell_type": "code",
   "execution_count": 1,
   "id": "cf1f87fa-c223-45cf-8cd1-7e9e294f38bf",
   "metadata": {},
   "outputs": [
    {
     "name": "stdin",
     "output_type": "stream",
     "text": [
      "enter a number 32\n"
     ]
    },
    {
     "name": "stdout",
     "output_type": "stream",
     "text": [
      "Fail\n"
     ]
    }
   ],
   "source": [
    "grade = int(input('enter a number'))\n",
    "\n",
    "if grade>=90:\n",
    "    print('A+')\n",
    "elif grade>=75:\n",
    "    print('A')\n",
    "elif grade >=60:\n",
    "    print('B')\n",
    "elif grade >=50:\n",
    "    print('C')\n",
    "elif grade >=40:\n",
    "    print('D')\n",
    "else:\n",
    "    print('Fail')\n",
    "    "
   ]
  },
  {
   "cell_type": "markdown",
   "id": "85cdbf6e-e142-48b9-a077-bb055852a838",
   "metadata": {},
   "source": [
    "## While Loop"
   ]
  },
  {
   "cell_type": "code",
   "execution_count": 3,
   "id": "b5383dd0-404e-4c44-88ff-41d4af8a4586",
   "metadata": {},
   "outputs": [
    {
     "data": {
      "text/plain": [
       "81"
      ]
     },
     "execution_count": 3,
     "metadata": {},
     "output_type": "execute_result"
    }
   ],
   "source": [
    "Product = 3\n",
    "\n",
    "while Product <= 50:\n",
    "    Product = Product * 3\n",
    "\n",
    "Product"
   ]
  },
  {
   "cell_type": "code",
   "execution_count": 1,
   "id": "cb9f9b12-ac35-4e53-8af5-abc57b60f87a",
   "metadata": {},
   "outputs": [
    {
     "data": {
      "text/plain": [
       "2401"
      ]
     },
     "execution_count": 1,
     "metadata": {},
     "output_type": "execute_result"
    }
   ],
   "source": [
    "Product = 7\n",
    "\n",
    "while Product <= 1000:\n",
    "    Product = Product * 7\n",
    "\n",
    "Product"
   ]
  },
  {
   "cell_type": "markdown",
   "id": "04ae264a-c560-43b2-9d7e-75a957a2fa40",
   "metadata": {},
   "source": [
    "### For Loop"
   ]
  },
  {
   "cell_type": "code",
   "execution_count": 4,
   "id": "a34c0572-06e2-4b38-b491-b13f29730533",
   "metadata": {},
   "outputs": [
    {
     "name": "stdout",
     "output_type": "stream",
     "text": [
      "P r o g r a m m i n g "
     ]
    }
   ],
   "source": [
    "for character in 'Programming':\n",
    "    print(character, end=' ')"
   ]
  },
  {
   "cell_type": "code",
   "execution_count": 9,
   "id": "7e4b32f0-80e8-42a5-a7f0-08569d39687f",
   "metadata": {},
   "outputs": [
    {
     "name": "stdout",
     "output_type": "stream",
     "text": [
      "2\n",
      "8\n",
      "16\n",
      "38\n",
      "51\n"
     ]
    }
   ],
   "source": [
    "total = 0\n",
    "\n",
    "for number in [2,6,8,22,13]:\n",
    "    total = total + number\n",
    "    print(total)"
   ]
  },
  {
   "cell_type": "code",
   "execution_count": 14,
   "id": "4c3ca055-d28e-4bd7-8890-ff96221215b2",
   "metadata": {},
   "outputs": [
    {
     "name": "stdout",
     "output_type": "stream",
     "text": [
      "0 3 6 9 12 15 18 21 24 27 30 33 36 39 42 45 48 51 54 57 "
     ]
    }
   ],
   "source": [
    "for counter in range(20):\n",
    "    counter =  counter * 3\n",
    "    print(counter, end=' ')"
   ]
  },
  {
   "cell_type": "code",
   "execution_count": 15,
   "id": "91b25871-62b4-4ce5-9854-a83c628e2c8c",
   "metadata": {},
   "outputs": [
    {
     "name": "stdout",
     "output_type": "stream",
     "text": [
      "0 2 4 6 8 10 12 14 16 18 20 22 24 26 28 30 32 34 36 38 40 42 44 46 48 50 52 54 56 58 60 62 64 66 68 70 72 74 76 78 80 82 84 86 88 90 92 94 96 98 100 102 104 106 108 110 112 114 116 118 120 122 124 126 128 130 132 134 136 138 140 142 144 146 148 150 152 154 156 158 160 162 164 166 168 170 172 174 176 178 180 182 184 186 188 190 192 194 196 198 "
     ]
    }
   ],
   "source": [
    "for counter in range(0,100):\n",
    "    counter = counter * 2\n",
    "    print(counter, end=' ')"
   ]
  },
  {
   "cell_type": "code",
   "execution_count": 16,
   "id": "e60cc354-9edc-413d-9915-0cbc51d35538",
   "metadata": {},
   "outputs": [],
   "source": [
    "total = 0\n",
    "\n",
    "for number in range(10000001):\n",
    "    total = total + number"
   ]
  },
  {
   "cell_type": "code",
   "execution_count": 17,
   "id": "d13771c2-9f5c-42cb-b2a2-5b22d9592c5b",
   "metadata": {},
   "outputs": [
    {
     "data": {
      "text/plain": [
       "50000005000000"
      ]
     },
     "execution_count": 17,
     "metadata": {},
     "output_type": "execute_result"
    }
   ],
   "source": [
    "total"
   ]
  },
  {
   "cell_type": "code",
   "execution_count": 19,
   "id": "555e5703-9f67-4bb5-969d-25dc5ea7cef4",
   "metadata": {},
   "outputs": [],
   "source": [
    "c = 3"
   ]
  },
  {
   "cell_type": "code",
   "execution_count": 20,
   "id": "6f17e744-ab18-4312-a178-136f7ad57c66",
   "metadata": {},
   "outputs": [],
   "source": [
    "c += 7"
   ]
  },
  {
   "cell_type": "code",
   "execution_count": 21,
   "id": "2afdbacf-1dd1-4e97-ac0b-0b938c75698b",
   "metadata": {},
   "outputs": [
    {
     "data": {
      "text/plain": [
       "10"
      ]
     },
     "execution_count": 21,
     "metadata": {},
     "output_type": "execute_result"
    }
   ],
   "source": [
    "c"
   ]
  },
  {
   "cell_type": "code",
   "execution_count": 23,
   "id": "311e0c82-c638-4c94-8119-ecf44f9c3f29",
   "metadata": {},
   "outputs": [],
   "source": [
    "total = 0\n",
    "\n",
    "for number in [1,3,5,7,9]:\n",
    "    total += number"
   ]
  },
  {
   "cell_type": "code",
   "execution_count": 24,
   "id": "e1588b57-633c-4892-bce0-7a706de82953",
   "metadata": {},
   "outputs": [
    {
     "data": {
      "text/plain": [
       "25"
      ]
     },
     "execution_count": 24,
     "metadata": {},
     "output_type": "execute_result"
    }
   ],
   "source": [
    "total"
   ]
  },
  {
   "cell_type": "code",
   "execution_count": 25,
   "id": "2e18dcca-5647-4bed-90dc-99a82ddd0ccc",
   "metadata": {},
   "outputs": [],
   "source": [
    "x = 12"
   ]
  },
  {
   "cell_type": "code",
   "execution_count": 29,
   "id": "893f3d60-24eb-4f89-b680-be414d549c26",
   "metadata": {},
   "outputs": [],
   "source": [
    "x **= 5"
   ]
  },
  {
   "cell_type": "code",
   "execution_count": 30,
   "id": "74657690-373d-4c80-91e9-792951e868bb",
   "metadata": {},
   "outputs": [
    {
     "data": {
      "text/plain": [
       "61917364224"
      ]
     },
     "execution_count": 30,
     "metadata": {},
     "output_type": "execute_result"
    }
   ],
   "source": [
    "x"
   ]
  },
  {
   "cell_type": "markdown",
   "id": "ed825a70-24e4-45d9-82e1-657f056e9c39",
   "metadata": {},
   "source": [
    "### Sequence Controlled Iteration"
   ]
  },
  {
   "cell_type": "code",
   "execution_count": 32,
   "id": "47cd8baa-012c-406b-aa17-d693d4ec1a5e",
   "metadata": {},
   "outputs": [],
   "source": [
    "# initialization Phase\n",
    "\n",
    "total = 0\n",
    "grade_counter = 0\n",
    "grades = [45,87,90,45,88,91,99,78,91,93]"
   ]
  },
  {
   "cell_type": "code",
   "execution_count": 33,
   "id": "07432278-c29b-4d97-af25-f3723868310c",
   "metadata": {},
   "outputs": [],
   "source": [
    "for grade in grades:\n",
    "    total += grade\n",
    "    grade_counter += 1"
   ]
  },
  {
   "cell_type": "code",
   "execution_count": 34,
   "id": "218ce549-d668-4092-8836-a2cec6f45698",
   "metadata": {},
   "outputs": [
    {
     "name": "stdout",
     "output_type": "stream",
     "text": [
      "Class average is 80.7\n"
     ]
    }
   ],
   "source": [
    "average = total / grade_counter\n",
    "print(f'Class average is {average}')"
   ]
  },
  {
   "cell_type": "code",
   "execution_count": 37,
   "id": "bdb0d290-f13c-48d5-a53a-f04aaea96175",
   "metadata": {},
   "outputs": [
    {
     "name": "stdout",
     "output_type": "stream",
     "text": [
      "7 times 5 is 35\n"
     ]
    }
   ],
   "source": [
    "total = 0\n",
    "number1 = 7\n",
    "number2 = 5\n",
    "total = number1 * number2\n",
    "print(f'{number1} times {number2} is {total}')"
   ]
  },
  {
   "cell_type": "code",
   "execution_count": 38,
   "id": "db5563a4-6b77-4a43-abac-1a9bc4ef1e22",
   "metadata": {},
   "outputs": [
    {
     "name": "stdout",
     "output_type": "stream",
     "text": [
      "7 times 5 is 35\n"
     ]
    }
   ],
   "source": [
    "number1 = 7\n",
    "number2 = 5\n",
    "\n",
    "print(f'{number1} times {number2} is {number1 * number2}')"
   ]
  },
  {
   "cell_type": "markdown",
   "id": "02e6ec66-7dc3-4e7a-8c21-76d4fc71bde6",
   "metadata": {},
   "source": [
    "### Sentinel controlled iteration"
   ]
  },
  {
   "cell_type": "code",
   "execution_count": 2,
   "id": "a8515c39-aa17-461c-b8de-fc428541d7a5",
   "metadata": {},
   "outputs": [],
   "source": [
    "total = 0\n",
    "grade_counter = 0"
   ]
  },
  {
   "cell_type": "code",
   "execution_count": 8,
   "id": "fc3a8e0b-1ade-451e-9dd9-44c3a4f643fd",
   "metadata": {},
   "outputs": [
    {
     "name": "stdin",
     "output_type": "stream",
     "text": [
      "Enter grade -1 to end: 0\n",
      "Enter grade, -1 to end: 0\n",
      "Enter grade, -1 to end: 0\n",
      "Enter grade, -1 to end: 9\n",
      "Enter grade, -1 to end: -1\n"
     ]
    },
    {
     "name": "stdout",
     "output_type": "stream",
     "text": [
      "Class average is 28.33\n"
     ]
    }
   ],
   "source": [
    "grade = int(input('Enter grade -1 to end:'))\n",
    "\n",
    "while grade != -1:\n",
    "    total += grade\n",
    "    grade_counter += 1\n",
    "    grade = int(input('Enter grade, -1 to end:'))\n",
    "\n",
    "if grade_counter != 0:\n",
    "    average = total / grade_counter\n",
    "    print(f'Class average is {average:.2f}')\n",
    "else:\n",
    "    print('No grade enter')"
   ]
  },
  {
   "cell_type": "code",
   "execution_count": 11,
   "id": "10eecd72-6997-4c25-b018-061783e8a47b",
   "metadata": {},
   "outputs": [
    {
     "name": "stdout",
     "output_type": "stream",
     "text": [
      "0 2 4 6 8 "
     ]
    }
   ],
   "source": [
    "for number in range(0,10,2):\n",
    "    print(number, end=' ')"
   ]
  },
  {
   "cell_type": "code",
   "execution_count": 12,
   "id": "d15b570a-2fad-47d1-8dff-3de603b5e9a9",
   "metadata": {},
   "outputs": [
    {
     "name": "stdout",
     "output_type": "stream",
     "text": [
      "10 8 6 4 2 "
     ]
    }
   ],
   "source": [
    "for number in range(10,0,-2):\n",
    "    print(number,end= ' ')"
   ]
  },
  {
   "cell_type": "code",
   "execution_count": 13,
   "id": "e88e8caa-ad41-46b7-963d-bbfbc75a94c0",
   "metadata": {},
   "outputs": [
    {
     "name": "stdout",
     "output_type": "stream",
     "text": [
      "99 88 77 66 55 44 33 22 11 0 "
     ]
    }
   ],
   "source": [
    "for number in range(99,-1,-11):\n",
    "    print(number, end=' ')"
   ]
  },
  {
   "cell_type": "code",
   "execution_count": 14,
   "id": "ee13149c-e0dd-400c-a461-e22b36fe89ba",
   "metadata": {},
   "outputs": [
    {
     "data": {
      "text/plain": [
       "2550"
      ]
     },
     "execution_count": 14,
     "metadata": {},
     "output_type": "execute_result"
    }
   ],
   "source": [
    "total = 0\n",
    "\n",
    "for number in range(2,101,2):\n",
    "    total += number\n",
    "total"
   ]
  },
  {
   "cell_type": "code",
   "execution_count": null,
   "id": "620c97ed-1574-4bd4-983d-dbca5d0d205c",
   "metadata": {},
   "outputs": [],
   "source": []
  }
 ],
 "metadata": {
  "kernelspec": {
   "display_name": "Python 3 (ipykernel)",
   "language": "python",
   "name": "python3"
  },
  "language_info": {
   "codemirror_mode": {
    "name": "ipython",
    "version": 3
   },
   "file_extension": ".py",
   "mimetype": "text/x-python",
   "name": "python",
   "nbconvert_exporter": "python",
   "pygments_lexer": "ipython3",
   "version": "3.13.5"
  }
 },
 "nbformat": 4,
 "nbformat_minor": 5
}
