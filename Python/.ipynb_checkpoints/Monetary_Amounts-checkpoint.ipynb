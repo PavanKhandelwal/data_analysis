{
 "cells": [
  {
   "cell_type": "markdown",
   "id": "ad93cfd5-861e-4558-b276-80e3d1faeafd",
   "metadata": {},
   "source": [
    "### Decimal Library"
   ]
  },
  {
   "cell_type": "code",
   "execution_count": 1,
   "id": "d18dbbe3-04cb-41c7-af5c-35781008bc63",
   "metadata": {},
   "outputs": [],
   "source": [
    "from decimal import Decimal"
   ]
  },
  {
   "cell_type": "code",
   "execution_count": 8,
   "id": "f6812857-0c15-4af8-9731-484b9bb9db0b",
   "metadata": {},
   "outputs": [],
   "source": [
    "principal = Decimal('60000.00')"
   ]
  },
  {
   "cell_type": "code",
   "execution_count": 9,
   "id": "07b518a4-bc28-4547-ab8b-816019676630",
   "metadata": {},
   "outputs": [
    {
     "data": {
      "text/plain": [
       "Decimal('60000.00')"
      ]
     },
     "execution_count": 9,
     "metadata": {},
     "output_type": "execute_result"
    }
   ],
   "source": [
    "principal"
   ]
  },
  {
   "cell_type": "code",
   "execution_count": 12,
   "id": "4f330167-db93-482e-b4b6-a26afbbd323a",
   "metadata": {},
   "outputs": [],
   "source": [
    "rate = Decimal('0.071')\n",
    "\n",
    "x =  Decimal('10.5')\n",
    "y = Decimal('2')"
   ]
  },
  {
   "cell_type": "code",
   "execution_count": 13,
   "id": "e0dafff7-4cce-4927-9ffc-53873effb416",
   "metadata": {},
   "outputs": [
    {
     "data": {
      "text/plain": [
       "Decimal('12.5')"
      ]
     },
     "execution_count": 13,
     "metadata": {},
     "output_type": "execute_result"
    }
   ],
   "source": [
    "x + y"
   ]
  },
  {
   "cell_type": "code",
   "execution_count": 14,
   "id": "b7eaa93e-ffa5-4f94-adae-b8224ad85035",
   "metadata": {},
   "outputs": [
    {
     "data": {
      "text/plain": [
       "Decimal('5')"
      ]
     },
     "execution_count": 14,
     "metadata": {},
     "output_type": "execute_result"
    }
   ],
   "source": [
    "x // y"
   ]
  },
  {
   "cell_type": "code",
   "execution_count": 20,
   "id": "94056056-25aa-415b-a08b-27bc0ad5a25b",
   "metadata": {},
   "outputs": [
    {
     "name": "stdout",
     "output_type": "stream",
     "text": [
      " 1  64260.00\n",
      " 2  68822.46\n",
      " 3  73708.85\n",
      " 4  78942.18\n",
      " 5  84547.08\n",
      " 6  90549.92\n",
      " 7  96978.97\n",
      " 8 103864.47\n",
      " 9 111238.85\n",
      "10 119136.81\n",
      "11 127595.52\n",
      "12 136654.80\n",
      "13 146357.29\n",
      "14 156748.66\n",
      "15 167877.82\n"
     ]
    }
   ],
   "source": [
    "for year in range(1,16):\n",
    "    amount  = principal * (1 + rate) ** year\n",
    "    print(f'{year:>2}{amount:>10.2f}')"
   ]
  },
  {
   "cell_type": "markdown",
   "id": "dbe673cb-d6be-4f48-8220-7442d1279fed",
   "metadata": {},
   "source": [
    "### Break & Continue Statement"
   ]
  },
  {
   "cell_type": "code",
   "execution_count": null,
   "id": "9c636ca2-5cfc-430b-9a6b-c9e7a3a7b579",
   "metadata": {},
   "outputs": [],
   "source": []
  }
 ],
 "metadata": {
  "kernelspec": {
   "display_name": "Python 3 (ipykernel)",
   "language": "python",
   "name": "python3"
  },
  "language_info": {
   "codemirror_mode": {
    "name": "ipython",
    "version": 3
   },
   "file_extension": ".py",
   "mimetype": "text/x-python",
   "name": "python",
   "nbconvert_exporter": "python",
   "pygments_lexer": "ipython3",
   "version": "3.13.5"
  }
 },
 "nbformat": 4,
 "nbformat_minor": 5
}
